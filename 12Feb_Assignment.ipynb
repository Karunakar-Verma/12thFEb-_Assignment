{
 "cells": [
  {
   "cell_type": "markdown",
   "id": "cb6b81fe",
   "metadata": {},
   "source": [
    "# 12 Feb Assignment"
   ]
  },
  {
   "cell_type": "code",
   "execution_count": 2,
   "id": "3551b8b0",
   "metadata": {},
   "outputs": [
    {
     "data": {
      "text/plain": [
       "\"\\nQ 1 -> What is exception in Python ? Diffrence btw Exception and Syntax error.\\n\\nAn exception is an event, which occurs during the execution of a program \\nthat disrupts the normal flow of the program's instructions.\\n\\nSyntax Error -> When the proper syntax of the language is not followed then a syntax error is thrown.\\n\\nException -> When in the runtime an error that occurs after passing the syntax test is called exception\\n\""
      ]
     },
     "execution_count": 2,
     "metadata": {},
     "output_type": "execute_result"
    }
   ],
   "source": [
    "\"\"\"\n",
    "Q 1 -> What is exception in Python ? Diffrence btw Exception and Syntax error.\n",
    "\n",
    "An exception is an event, which occurs during the execution of a program \n",
    "that disrupts the normal flow of the program's instructions.\n",
    "\n",
    "Syntax Error -> When the proper syntax of the language is not followed then a syntax error is thrown.\n",
    "\n",
    "Exception -> When in the runtime an error that occurs after passing the syntax test is called exception\n",
    "\"\"\""
   ]
  },
  {
   "cell_type": "code",
   "execution_count": 3,
   "id": "201d44d4",
   "metadata": {},
   "outputs": [
    {
     "data": {
      "text/plain": [
       "'\\nQ 2 -> What happens when a exception is not handle ? Explain with an example.\\n\\n The runtime system will abort the program (i.e. crash) and an exception message will print to the console.\\n \\n Example \\n \\ndivide_numbers = 7 / 0\\nprit(divide_numbers)\\n\\nOutput \\n\\nTraceback (most recent call last):\\n File \"<string>\", line 1, in <module>\\nZeroDivisionError: division by zero\\n\\n'"
      ]
     },
     "execution_count": 3,
     "metadata": {},
     "output_type": "execute_result"
    }
   ],
   "source": [
    "\"\"\"\n",
    "Q 2 -> What happens when a exception is not handle ? Explain with an example.\n",
    "\n",
    " The runtime system will abort the program (i.e. crash) and an exception message will print to the console.\n",
    " \n",
    " Example \n",
    " \n",
    "divide_numbers = 7 / 0\n",
    "prit(divide_numbers)\n",
    "\n",
    "Output \n",
    "\n",
    "Traceback (most recent call last):\n",
    " File \"<string>\", line 1, in <module>\n",
    "ZeroDivisionError: division by zero\n",
    "\n",
    "\"\"\""
   ]
  },
  {
   "cell_type": "code",
   "execution_count": 4,
   "id": "3839447b",
   "metadata": {},
   "outputs": [
    {
     "data": {
      "text/plain": [
       "'\\nQ 3 -> Which python statements are used to catch and handle exception ? Explain with an example \\n\\nTry and except or try and finally statements are used .\\n\\nExample -\\n\\ntry:\\n    f = open (\"test.txt\",\\'r\\')\\n    a =11\\n    a/0\\n    \\nexcept Exception as e :\\n    print(\"Here error is :\",e)\\na +2  \\n'"
      ]
     },
     "execution_count": 4,
     "metadata": {},
     "output_type": "execute_result"
    }
   ],
   "source": [
    "\"\"\"\n",
    "Q 3 -> Which python statements are used to catch and handle exception ? Explain with an example \n",
    "\n",
    "Try and except or try and finally statements are used .\n",
    "\n",
    "Example -\n",
    "\n",
    "try:\n",
    "    f = open (\"test.txt\",'r')\n",
    "    a =11\n",
    "    a/0\n",
    "    \n",
    "except Exception as e :\n",
    "    print(\"Here error is :\",e)\n",
    "a +2  \n",
    "\"\"\""
   ]
  },
  {
   "cell_type": "code",
   "execution_count": 5,
   "id": "56927f72",
   "metadata": {},
   "outputs": [
    {
     "data": {
      "text/plain": [
       "'\\nQ 4 - > Write an example with \\n1 -> try and else \\n2 -> finally\\n3 -> raise\\n\\n1-> \\n\\ntry :\\n    f = open (\"test.txt\",\\'w\\')\\n    f.write(\"write into my file \")\\nexcept Exception as e :\\n    print(\"This is my except block\",e)\\nelse :\\n    f.close()\\n    print(\"This will be executed once your try will executed without error\")\\n    \\n    \\n2 ->\\n\\ntry:\\n    f = open (\"hero2.txt\",\\'w\\')\\n    f.write(\"write something\")\\nfinally :\\n    print(\"Finally will execute itself in any situation\")\\n\\n3-> \\n\\nx = -1\\n\\nif x < 0:\\n  raise Exception(\"Sorry, no numbers below zero\")\\n'"
      ]
     },
     "execution_count": 5,
     "metadata": {},
     "output_type": "execute_result"
    }
   ],
   "source": [
    "\"\"\"\n",
    "Q 4 - > Write an example with \n",
    "1 -> try and else \n",
    "2 -> finally\n",
    "3 -> raise\n",
    "\n",
    "1-> \n",
    "\n",
    "try :\n",
    "    f = open (\"test.txt\",'w')\n",
    "    f.write(\"write into my file \")\n",
    "except Exception as e :\n",
    "    print(\"This is my except block\",e)\n",
    "else :\n",
    "    f.close()\n",
    "    print(\"This will be executed once your try will executed without error\")\n",
    "    \n",
    "    \n",
    "2 ->\n",
    "\n",
    "try:\n",
    "    f = open (\"hero2.txt\",'w')\n",
    "    f.write(\"write something\")\n",
    "finally :\n",
    "    print(\"Finally will execute itself in any situation\")\n",
    "\n",
    "3-> \n",
    "\n",
    "x = -1\n",
    "\n",
    "if x < 0:\n",
    "  raise Exception(\"Sorry, no numbers below zero\")\n",
    "\"\"\""
   ]
  },
  {
   "cell_type": "code",
   "execution_count": 7,
   "id": "1108d1c6",
   "metadata": {},
   "outputs": [
    {
     "data": {
      "text/plain": [
       "'\\nQ 5 - > What are custom exception in python ? Why do we need custome exception ? Explian with an example.\\n\\nThese custom exceptions are named as user-defined exceptions.\\nHere the user-defined exceptions can be built defined by using a class declared for it.\\n\\nWe need custom exceptions that will add information about project-related problems.\\n\\nclass CustomError(Exception):\\n    ...\\n    pass\\n\\ntry:\\n   ...\\n   pass\\n\\nexcept CustomError:\\n    ...\\n    pass\\n\\n'"
      ]
     },
     "execution_count": 7,
     "metadata": {},
     "output_type": "execute_result"
    }
   ],
   "source": [
    "\"\"\"\n",
    "Q 5 - > What are custom exception in python ? Why do we need custome exception ? Explian with an example.\n",
    "\n",
    "These custom exceptions are named as user-defined exceptions.\n",
    "Here the user-defined exceptions can be built defined by using a class declared for it.\n",
    "\n",
    "We need custom exceptions that will add information about project-related problems.\n",
    "\n",
    "class CustomError(Exception):\n",
    "    ...\n",
    "    pass\n",
    "\n",
    "try:\n",
    "   ...\n",
    "   pass\n",
    "\n",
    "except CustomError:\n",
    "    ...\n",
    "    pass\n",
    "\n",
    "\"\"\""
   ]
  },
  {
   "cell_type": "code",
   "execution_count": null,
   "id": "25e0346a",
   "metadata": {},
   "outputs": [],
   "source": [
    "\"\"\"\n",
    "Q 6 - > Create a Custom Exception class . Use this class to handle exception\n",
    "\n",
    "\"\"\""
   ]
  },
  {
   "cell_type": "code",
   "execution_count": null,
   "id": "8dab5a0e",
   "metadata": {},
   "outputs": [],
   "source": [
    "age = int(input(\"enter your age\" ))"
   ]
  },
  {
   "cell_type": "code",
   "execution_count": null,
   "id": "32ce7d6d",
   "metadata": {},
   "outputs": [],
   "source": [
    "class validateage(Exception):\n",
    "    \n",
    "    def __init__(self , msg) : \n",
    "        self.msg = msg"
   ]
  },
  {
   "cell_type": "code",
   "execution_count": null,
   "id": "7fd6b3b1",
   "metadata": {},
   "outputs": [],
   "source": [
    "def validaetage(age) : \n",
    "    if age < 0 :\n",
    "        raise validateage(\"entered age is negative \" )\n",
    "    elif age > 200 : \n",
    "        raise validateage(\"enterd age is very very high \" )\n",
    "    else :\n",
    "        print(\"age is valid\" )"
   ]
  },
  {
   "cell_type": "code",
   "execution_count": null,
   "id": "9e60f8e6",
   "metadata": {},
   "outputs": [],
   "source": [
    "try :\n",
    "    age = int(input(\"enter your age\" ))\n",
    "    validaetage(age)\n",
    "except validateage as e :\n",
    "    print(e)"
   ]
  },
  {
   "cell_type": "code",
   "execution_count": null,
   "id": "853962eb",
   "metadata": {},
   "outputs": [],
   "source": []
  },
  {
   "cell_type": "code",
   "execution_count": null,
   "id": "9c9981a7",
   "metadata": {},
   "outputs": [],
   "source": []
  }
 ],
 "metadata": {
  "kernelspec": {
   "display_name": "Python 3 (ipykernel)",
   "language": "python",
   "name": "python3"
  },
  "language_info": {
   "codemirror_mode": {
    "name": "ipython",
    "version": 3
   },
   "file_extension": ".py",
   "mimetype": "text/x-python",
   "name": "python",
   "nbconvert_exporter": "python",
   "pygments_lexer": "ipython3",
   "version": "3.9.13"
  }
 },
 "nbformat": 4,
 "nbformat_minor": 5
}
